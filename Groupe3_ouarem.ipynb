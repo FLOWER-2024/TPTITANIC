{
  "nbformat": 4,
  "nbformat_minor": 0,
  "metadata": {
    "colab": {
      "provenance": [],
      "include_colab_link": true
    },
    "kernelspec": {
      "name": "python3",
      "display_name": "Python 3"
    },
    "language_info": {
      "name": "python"
    }
  },
  "cells": [
    {
      "cell_type": "markdown",
      "metadata": {
        "id": "view-in-github",
        "colab_type": "text"
      },
      "source": [
        "<a href=\"https://colab.research.google.com/github/FLOWER-2024/TPTITANIC/blob/main/Groupe3_ouarem.ipynb\" target=\"_parent\"><img src=\"https://colab.research.google.com/assets/colab-badge.svg\" alt=\"Open In Colab\"/></a>"
      ]
    },
    {
      "cell_type": "markdown",
      "source": [
        "#1.Importation des bibliothèques"
      ],
      "metadata": {
        "id": "m_4u4G-wWIVa"
      }
    },
    {
      "cell_type": "code",
      "source": [
        "# Step 1: Setup and Data Loading\n",
        "# ---------------------------------\n",
        "import pandas as pd\n",
        "import numpy as np\n",
        "import matplotlib.pyplot as plt\n",
        "import seaborn as sns\n",
        "from sklearn.model_selection import train_test_split, RandomizedSearchCV\n",
        "from sklearn.preprocessing import StandardScaler\n",
        "from sklearn.impute import KNNImputer # Using a more advanced imputer\n",
        "from sklearn.linear_model import LogisticRegression\n",
        "from sklearn.ensemble import RandomForestClassifier, VotingClassifier\n",
        "from sklearn.metrics import classification_report, f1_score, confusion_matrix\n",
        "\n",
        "from xgboost import XGBClassifier\n",
        "from imblearn.over_sampling import SMOTE\n",
        "from imblearn.pipeline import Pipeline as ImbPipeline"
      ],
      "metadata": {
        "id": "rQzLUtv7fyaX"
      },
      "execution_count": 11,
      "outputs": []
    },
    {
      "cell_type": "markdown",
      "source": [
        "#2.Chargement et préparation initiale des données"
      ],
      "metadata": {
        "id": "kzaMLzuSWMoh"
      }
    },
    {
      "cell_type": "code",
      "source": [
        "# Data loading remains the same\n",
        "data_path = '/content/myocardial+infarction+complications.zip'\n",
        "col_names = [f'col_{i}' for i in range(1, 125)]\n",
        "df = pd.read_csv(data_path, header=None, names=col_names, na_values='?', compression='zip', dtype=str)\n",
        "\n",
        "print(\"Dataset loaded successfully.\")"
      ],
      "metadata": {
        "colab": {
          "base_uri": "https://localhost:8080/"
        },
        "id": "2j0KcsyWTpsa",
        "outputId": "5320a790-1f7e-47bc-9579-7cdb2c9e6ebb"
      },
      "execution_count": 12,
      "outputs": [
        {
          "output_type": "stream",
          "name": "stdout",
          "text": [
            "Dataset loaded successfully.\n"
          ]
        }
      ]
    },
    {
      "cell_type": "code",
      "source": [
        "# Step 2: Data Cleaning and Preprocessing\n",
        "# ----------------------------------------\n",
        "complication_cols = [f'col_{i}' for i in range(113, 125)]\n",
        "for col in complication_cols:\n",
        "    df[col] = pd.to_numeric(df[col], errors='coerce')\n",
        "\n",
        "df['COMPLICATION'] = df[complication_cols].sum(axis=1).apply(lambda x: 1 if x > 0 else 0)\n",
        "\n",
        "feature_cols = [f'col_{i}' for i in range(2, 93)]\n",
        "for col in feature_cols:\n",
        "    df[col] = pd.to_numeric(df[col], errors='coerce')\n",
        "\n",
        "X = df[feature_cols]\n",
        "y = df['COMPLICATION']\n",
        "\n",
        "X_train, X_val, y_train, y_val = train_test_split(X, y, test_size=0.2, random_state=42, stratify=y)\n",
        "print(\"\\nData split into training and validation sets.\")\n",
        "\n",
        "print(\"\\nShape of the feature data (X):\", X.shape)\n",
        "print(\"Shape of the target data (y):\", y.shape)\n",
        "print(\"\\nDistribution of the target variable (y):\")\n",
        "display(y.value_counts())\n",
        "\n",
        "print(\"\\nShape of X_train:\", X_train.shape)\n",
        "print(\"Shape of X_val:\", X_val.shape)\n",
        "print(\"Shape of y_train:\", y_train.shape)\n",
        "print(\"Shape of y_val:\", y_val.shape)"
      ],
      "metadata": {
        "colab": {
          "base_uri": "https://localhost:8080/",
          "height": 393
        },
        "id": "LyV73LrtWUSs",
        "outputId": "c64ff518-c228-48c7-c948-12cbc8e88c5e"
      },
      "execution_count": 13,
      "outputs": [
        {
          "output_type": "stream",
          "name": "stdout",
          "text": [
            "\n",
            "Data split into training and validation sets.\n",
            "\n",
            "Shape of the feature data (X): (1700, 91)\n",
            "Shape of the target data (y): (1700,)\n",
            "\n",
            "Distribution of the target variable (y):\n"
          ]
        },
        {
          "output_type": "display_data",
          "data": {
            "text/plain": [
              "COMPLICATION\n",
              "1    1037\n",
              "0     663\n",
              "Name: count, dtype: int64"
            ],
            "text/html": [
              "<div>\n",
              "<style scoped>\n",
              "    .dataframe tbody tr th:only-of-type {\n",
              "        vertical-align: middle;\n",
              "    }\n",
              "\n",
              "    .dataframe tbody tr th {\n",
              "        vertical-align: top;\n",
              "    }\n",
              "\n",
              "    .dataframe thead th {\n",
              "        text-align: right;\n",
              "    }\n",
              "</style>\n",
              "<table border=\"1\" class=\"dataframe\">\n",
              "  <thead>\n",
              "    <tr style=\"text-align: right;\">\n",
              "      <th></th>\n",
              "      <th>count</th>\n",
              "    </tr>\n",
              "    <tr>\n",
              "      <th>COMPLICATION</th>\n",
              "      <th></th>\n",
              "    </tr>\n",
              "  </thead>\n",
              "  <tbody>\n",
              "    <tr>\n",
              "      <th>1</th>\n",
              "      <td>1037</td>\n",
              "    </tr>\n",
              "    <tr>\n",
              "      <th>0</th>\n",
              "      <td>663</td>\n",
              "    </tr>\n",
              "  </tbody>\n",
              "</table>\n",
              "</div><br><label><b>dtype:</b> int64</label>"
            ]
          },
          "metadata": {}
        },
        {
          "output_type": "stream",
          "name": "stdout",
          "text": [
            "\n",
            "Shape of X_train: (1360, 91)\n",
            "Shape of X_val: (340, 91)\n",
            "Shape of y_train: (1360,)\n",
            "Shape of y_val: (340,)\n"
          ]
        }
      ]
    },
    {
      "cell_type": "markdown",
      "source": [
        "#3.Construction et optimisation de modèles d'ensemble"
      ],
      "metadata": {
        "id": "uTR5jW4hfpNV"
      }
    },
    {
      "cell_type": "code",
      "source": [
        "# On définit 3 pipelines, un pour chaque modèle de base.\n",
        "# On utilise un imputer plus avancé : KNNImputer.\n",
        "\n",
        "# Pipeline for Logistic Regression\n",
        "pipe_lr = ImbPipeline([\n",
        "    ('imputer', KNNImputer(n_neighbors=5)),\n",
        "    ('scaler', StandardScaler()),\n",
        "    ('smote', SMOTE(random_state=42)),\n",
        "    ('classifier', LogisticRegression(random_state=42, solver='liblinear'))\n",
        "])\n",
        "\n",
        "# Pipeline for RandomForest\n",
        "pipe_rf = ImbPipeline([\n",
        "    ('imputer', KNNImputer(n_neighbors=5)),\n",
        "    ('scaler', StandardScaler()),\n",
        "    ('smote', SMOTE(random_state=42)),\n",
        "    ('classifier', RandomForestClassifier(random_state=42))\n",
        "])\n",
        "\n",
        "# Pipeline for XGBoost\n",
        "pipe_xgb = ImbPipeline([\n",
        "    ('imputer', KNNImputer(n_neighbors=5)),\n",
        "    ('scaler', StandardScaler()),\n",
        "    ('smote', SMOTE(random_state=42)),\n",
        "    ('classifier', XGBClassifier(random_state=42, use_label_encoder=False, eval_metric='logloss'))\n",
        "])"
      ],
      "metadata": {
        "id": "MKC_882ok9Se"
      },
      "execution_count": 14,
      "outputs": []
    },
    {
      "cell_type": "code",
      "source": [
        "# On crée l'ensemble model (VotingClassifier)\n",
        "# voting='soft' est souvent meilleur car il moyenne les probabilités\n",
        "ensemble_clf = VotingClassifier(\n",
        "    estimators=[('lr', pipe_lr), ('rf', pipe_rf), ('xgb', pipe_xgb)],\n",
        "    voting='soft'\n",
        ")"
      ],
      "metadata": {
        "id": "9rhmN68ukbCy"
      },
      "execution_count": 15,
      "outputs": []
    },
    {
      "cell_type": "code",
      "source": [
        "# Grille de paramètres pour chaque modèle dans l'ensemble\n",
        "# Les noms sont préfixés par 'nomdumodele__' (ex: 'xgb__classifier__max_depth')\n",
        "param_dist = {\n",
        "    'rf__classifier__n_estimators': [100, 200],\n",
        "    'rf__classifier__max_depth': [5, 10, None],\n",
        "    'xgb__classifier__n_estimators': [100, 200],\n",
        "    'xgb__classifier__max_depth': [3, 5, 7],\n",
        "    'xgb__classifier__learning_rate': [0.05, 0.1],\n",
        "    'lr__classifier__C': [0.1, 1.0, 10.0]\n",
        "}"
      ],
      "metadata": {
        "id": "UACCMNU_kgnz"
      },
      "execution_count": 16,
      "outputs": []
    },
    {
      "cell_type": "code",
      "source": [
        "\n",
        "# On lance la recherche d'hyperparamètres sur l'ensemble du modèle\n",
        "random_search = RandomizedSearchCV(\n",
        "    estimator=ensemble_clf,\n",
        "    param_distributions=param_dist,\n",
        "    n_iter=20, # On teste moins de combinaisons car l'entraînement est plus long\n",
        "    cv=3,      # On réduit la validation croisée pour aller plus vite\n",
        "    scoring='f1',\n",
        "    n_jobs=-1,\n",
        "    random_state=42,\n",
        "    verbose=1\n",
        ")\n",
        "\n",
        "print(\"\\nStarting hyperparameter tuning for the Ensemble model...\")\n",
        "random_search.fit(X_train, y_train)\n",
        "\n",
        "print(\"\\nEnsemble model tuning complete.\")\n",
        "print(f\"Best F1 Score found: {random_search.best_score_:.4f}\")\n",
        "print(\"Best parameters found:\")\n",
        "print(random_search.best_params_)\n",
        "\n",
        "best_ensemble = random_search.best_estimator_"
      ],
      "metadata": {
        "colab": {
          "base_uri": "https://localhost:8080/"
        },
        "id": "eV5SvANjkmjO",
        "outputId": "c4d661d5-db74-4892-cbf1-e89e1a0ea222"
      },
      "execution_count": 17,
      "outputs": [
        {
          "output_type": "stream",
          "name": "stdout",
          "text": [
            "\n",
            "Starting hyperparameter tuning for the Ensemble model...\n",
            "Fitting 3 folds for each of 20 candidates, totalling 60 fits\n"
          ]
        },
        {
          "output_type": "stream",
          "name": "stderr",
          "text": [
            "/usr/local/lib/python3.12/dist-packages/xgboost/training.py:183: UserWarning: [16:30:29] WARNING: /workspace/src/learner.cc:738: \n",
            "Parameters: { \"use_label_encoder\" } are not used.\n",
            "\n",
            "  bst.update(dtrain, iteration=i, fobj=obj)\n"
          ]
        },
        {
          "output_type": "stream",
          "name": "stdout",
          "text": [
            "\n",
            "Ensemble model tuning complete.\n",
            "Best F1 Score found: 0.7478\n",
            "Best parameters found:\n",
            "{'xgb__classifier__n_estimators': 200, 'xgb__classifier__max_depth': 3, 'xgb__classifier__learning_rate': 0.1, 'rf__classifier__n_estimators': 200, 'rf__classifier__max_depth': None, 'lr__classifier__C': 1.0}\n"
          ]
        }
      ]
    },
    {
      "cell_type": "markdown",
      "source": [
        "#4.Evaluation de modele final\n"
      ],
      "metadata": {
        "id": "zZDZitrolK6R"
      }
    },
    {
      "cell_type": "code",
      "source": [
        "# Step 4: Final Model Evaluation\n",
        "print(\"\\nEvaluating the best ensemble model on the validation set...\")\n",
        "y_pred_val = best_ensemble.predict(X_val)\n",
        "\n",
        "f1 = f1_score(y_val, y_pred_val)\n",
        "print(f\"\\nF1 Score on Validation Set: {f1:.4f}\")\n",
        "print(\"\\nClassification Report:\")\n",
        "print(classification_report(y_val, y_pred_val))\n",
        "print(\"\\nConfusion Matrix:\")\n",
        "cm = confusion_matrix(y_val, y_pred_val)\n",
        "sns.heatmap(cm, annot=True, fmt='d', cmap='Blues')\n",
        "plt.xlabel('Predicted')\n",
        "plt.ylabel('Actual')\n",
        "plt.title('Confusion Matrix on Validation Set')\n",
        "plt.show()"
      ],
      "metadata": {
        "colab": {
          "base_uri": "https://localhost:8080/",
          "height": 777
        },
        "id": "qTyEN3dClQN6",
        "outputId": "83eb9679-4ada-49e9-85fb-d271c8d16dbd"
      },
      "execution_count": 18,
      "outputs": [
        {
          "output_type": "stream",
          "name": "stdout",
          "text": [
            "\n",
            "Evaluating the best ensemble model on the validation set...\n",
            "\n",
            "F1 Score on Validation Set: 0.7833\n",
            "\n",
            "Classification Report:\n",
            "              precision    recall  f1-score   support\n",
            "\n",
            "           0       0.66      0.70      0.68       133\n",
            "           1       0.80      0.77      0.78       207\n",
            "\n",
            "    accuracy                           0.74       340\n",
            "   macro avg       0.73      0.73      0.73       340\n",
            "weighted avg       0.74      0.74      0.74       340\n",
            "\n",
            "\n",
            "Confusion Matrix:\n"
          ]
        },
        {
          "output_type": "display_data",
          "data": {
            "text/plain": [
              "<Figure size 640x480 with 2 Axes>"
            ],
            "image/png": "[encoded data removed]"
          },
          "metadata": {}
        }
      ]
    },
    {
      "cell_type": "markdown",
      "source": [
        "#5.Génération du fichier de prédiction final"
      ],
      "metadata": {
        "id": "geZifuxolczM"
      }
    },
    {
      "cell_type": "code",
      "source": [
        "# Step 5: Generating the Final Prediction File\n",
        "# ---------------------------------------------\n",
        "def predict_and_save(model, test_data, output_filename):\n",
        "    if 'ID' not in test_data.columns:\n",
        "        test_data['ID'] = range(len(test_data))\n",
        "\n",
        "    test_features = test_data[feature_cols].copy()\n",
        "    for col in test_features.columns:\n",
        "        test_features[col] = pd.to_numeric(test_features[col], errors='coerce')\n",
        "    predictions = model.predict(test_features)\n",
        "    submission_df = pd.DataFrame({'ID': test_data['ID'], 'pred': predictions})\n",
        "    submission_df.to_csv(output_filename, index=False)\n",
        "    print(f\"\\nPrediction file '{output_filename}' created successfully.\")\n",
        "    print(\"Head of the submission file:\")\n",
        "    print(submission_df.head())\n",
        "\n",
        "X_val_with_id = X_val.copy()\n",
        "X_val_with_id['ID'] = X_val.index\n",
        "predict_and_save(\n",
        "    model=best_ensemble,\n",
        "    test_data=X_val_with_id,\n",
        "    output_filename='Groupe_Ensemble_Submission.csv'\n",
        ")"
      ],
      "metadata": {
        "colab": {
          "base_uri": "https://localhost:8080/"
        },
        "id": "05pcnThTliMn",
        "outputId": "06d50f99-804c-4864-9d92-1f7792676f59"
      },
      "execution_count": 19,
      "outputs": [
        {
          "output_type": "stream",
          "name": "stdout",
          "text": [
            "\n",
            "Prediction file 'Groupe_Ensemble_Submission.csv' created successfully.\n",
            "Head of the submission file:\n",
            "        ID  pred\n",
            "1459  1459     1\n",
            "518    518     0\n",
            "1693  1693     1\n",
            "1680  1680     1\n",
            "611    611     1\n"
          ]
        }
      ]
    },
    {
      "cell_type": "markdown",
      "source": [
        "#6.Prédictions sur dfTest.csv"
      ],
      "metadata": {
        "id": "swFWFNnAc4J8"
      }
    },
    {
      "cell_type": "code",
      "source": [
        "# Étape finale: Prédictions sur dfTest.csv\n",
        "test_data_path = '/content/dfTest.csv'\n",
        "test_df = pd.read_csv(test_data_path)\n",
        "\n",
        "# Assurez-vous que les colonnes correspondent (V2 à V92 pour les 91 features)\n",
        "# Si les noms diffèrent, on peut renommer ou sélectionner par indices\n",
        "test_df.columns = ['ID'] + [f'col_{i}' for i in range(1, 112)]  # Renommage pour correspondre à feature_cols\n",
        "\n",
        "predict_and_save(\n",
        "    model=best_ensemble,\n",
        "    test_data=test_df,\n",
        "    output_filename='predictions_dfTest.csv'\n",
        ")"
      ],
      "metadata": {
        "colab": {
          "base_uri": "https://localhost:8080/"
        },
        "id": "hY2Ij51xcyR2",
        "outputId": "1411f093-62a8-4b11-b49b-10f68f0daaba"
      },
      "execution_count": 22,
      "outputs": [
        {
          "output_type": "stream",
          "name": "stdout",
          "text": [
            "\n",
            "Prediction file 'predictions_dfTest.csv' created successfully.\n",
            "Head of the submission file:\n",
            "     ID  pred\n",
            "0   297     1\n",
            "1  1074     1\n",
            "2    63     1\n",
            "3   301     1\n",
            "4   739     1\n"
          ]
        }
      ]
    }
  ]
}